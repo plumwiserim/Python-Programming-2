{
  "cells": [
    {
      "cell_type": "markdown",
      "metadata": {
        "id": "view-in-github",
        "colab_type": "text"
      },
      "source": [
        "<a href=\"https://colab.research.google.com/github/plumwiserim/Python-Programming-2/blob/main/Project_Euler.ipynb\" target=\"_parent\"><img src=\"https://colab.research.google.com/assets/colab-badge.svg\" alt=\"Open In Colab\"/></a>"
      ]
    },
    {
      "cell_type": "markdown",
      "metadata": {
        "id": "6ylmN8QM7WRH"
      },
      "source": [
        "### 프로젝트 오일러"
      ]
    },
    {
      "cell_type": "markdown",
      "metadata": {
        "id": "w9GuuKXk7WRL"
      },
      "source": [
        "#### #1 : if n % 3 == 0 or n % 5 == 0을 설명하여라."
      ]
    },
    {
      "cell_type": "code",
      "execution_count": null,
      "metadata": {
        "id": "A_XfHbkX7WRN",
        "outputId": "0e5da5be-0c4b-4b8a-947f-45ccb2468c43"
      },
      "outputs": [
        {
          "data": {
            "text/plain": [
              "'3'"
            ]
          },
          "execution_count": 18,
          "metadata": {},
          "output_type": "execute_result"
        }
      ],
      "source": [
        "def compute1(n):\n",
        "    ans = sum(x for x in range(n) if (x % 3 == 0 or x % 5 == 0))\n",
        "    #x를 3으로 나누었을 때 나머지가 0 이거나 x를 5로 나누었을 때 나머지가 0이면\n",
        "    return str(ans)\n",
        "compute1(5)"
      ]
    },
    {
      "cell_type": "markdown",
      "metadata": {
        "id": "Lp1YdSCL7WRQ"
      },
      "source": [
        "#### #2 : a,b=a+2*b, a 로 정의되는 수열을 설명하여라."
      ]
    },
    {
      "cell_type": "code",
      "execution_count": null,
      "metadata": {
        "id": "QNyfj2I97WRQ",
        "outputId": "a002317d-9cfe-4c3e-c5e4-43c12434d9bb"
      },
      "outputs": [
        {
          "data": {
            "text/plain": [
              "[[1, 2], [5, 1], [7, 5], [17, 7], [31, 17]]"
            ]
          },
          "execution_count": 19,
          "metadata": {},
          "output_type": "execute_result"
        }
      ],
      "source": [
        "def compute2(n):\n",
        "    ans=[]\n",
        "    x=1\n",
        "    y=2\n",
        "    for i in range(n):\n",
        "        ans.append([x,y])\n",
        "        x, y = x+2*y,x\n",
        "    return ans\n",
        "compute2(5)"
      ]
    },
    {
      "cell_type": "code",
      "execution_count": null,
      "metadata": {
        "id": "YOQQou8e7WRR"
      },
      "outputs": [],
      "source": [
        ""
      ]
    }
  ],
  "metadata": {
    "kernelspec": {
      "display_name": "Python 3",
      "language": "python",
      "name": "python3"
    },
    "language_info": {
      "codemirror_mode": {
        "name": "ipython",
        "version": 3
      },
      "file_extension": ".py",
      "mimetype": "text/x-python",
      "name": "python",
      "nbconvert_exporter": "python",
      "pygments_lexer": "ipython3",
      "version": "3.7.3"
    },
    "colab": {
      "name": "Project-Euler.ipynb",
      "provenance": [],
      "include_colab_link": true
    }
  },
  "nbformat": 4,
  "nbformat_minor": 0
}