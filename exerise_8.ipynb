{
  "cells": [
    {
      "cell_type": "markdown",
      "metadata": {
        "id": "view-in-github",
        "colab_type": "text"
      },
      "source": [
        "<a href=\"https://colab.research.google.com/github/plumwiserim/Python-Programming-2/blob/main/exerise_8.ipynb\" target=\"_parent\"><img src=\"https://colab.research.google.com/assets/colab-badge.svg\" alt=\"Open In Colab\"/></a>"
      ]
    },
    {
      "cell_type": "markdown",
      "metadata": {
        "id": "zXCaZ_5H77a1"
      },
      "source": [
        "### Q1"
      ]
    },
    {
      "cell_type": "code",
      "execution_count": null,
      "metadata": {
        "id": "q35gkN-U77a5",
        "outputId": "86cb79d5-f937-48fe-8284-8c0befafeb3e"
      },
      "outputs": [
        {
          "name": "stdout",
          "output_type": "stream",
          "text": [
            "a#b#c#d\n"
          ]
        }
      ],
      "source": [
        "a=\"a:b:c:d\"\n",
        "b=a.split(\":\")\n",
        "c=\"#\".join(b)\n",
        "print(c)"
      ]
    },
    {
      "cell_type": "markdown",
      "metadata": {
        "id": "dFtFULpZ77a9"
      },
      "source": [
        "### Q2"
      ]
    },
    {
      "cell_type": "code",
      "execution_count": null,
      "metadata": {
        "id": "NkaPb1ia77a-",
        "outputId": "9ab8d688-c640-46a4-ed42-45cd6ed096b5"
      },
      "outputs": [
        {
          "data": {
            "text/plain": [
              "70"
            ]
          },
          "execution_count": 2,
          "metadata": {},
          "output_type": "execute_result"
        }
      ],
      "source": [
        "a={'A':90,'B':80}\n",
        "a.get('C',70)"
      ]
    },
    {
      "cell_type": "markdown",
      "metadata": {
        "id": "LHR1xTrK77a_"
      },
      "source": [
        "### Q3"
      ]
    },
    {
      "cell_type": "code",
      "execution_count": null,
      "metadata": {
        "id": "KMO-ZG1Q77a_",
        "outputId": "55322e5c-bdc1-42d7-a514-2800d27e0a9a"
      },
      "outputs": [
        {
          "name": "stdout",
          "output_type": "stream",
          "text": [
            "[1, 2, 3]\n",
            "2283505997960\n",
            "[1, 2, 3, 4, 5]\n",
            "2283505997896\n"
          ]
        }
      ],
      "source": [
        "a=[1, 2, 3]\n",
        "print(a)\n",
        "print(id(a))\n",
        "a=a+[4,5]\n",
        "print(a)\n",
        "print(id(a))"
      ]
    },
    {
      "cell_type": "code",
      "execution_count": null,
      "metadata": {
        "id": "ek8qB9ma77bA",
        "outputId": "5008bfa3-d073-45ac-d8e7-df8ab9566ad1"
      },
      "outputs": [
        {
          "name": "stdout",
          "output_type": "stream",
          "text": [
            "[1, 2, 3]\n",
            "2283506538696\n",
            "[1, 2, 3, 4, 5]\n",
            "2283506538696\n"
          ]
        }
      ],
      "source": [
        "a=[1,2,3]\n",
        "print(a)\n",
        "print(id(a))\n",
        "a.extend([4,5])\n",
        "print(a)\n",
        "print(id(a))"
      ]
    },
    {
      "cell_type": "markdown",
      "metadata": {
        "id": "PAYNgVEi77bB"
      },
      "source": [
        "### Q4"
      ]
    },
    {
      "cell_type": "code",
      "execution_count": null,
      "metadata": {
        "id": "CkvUxMRo77bC",
        "outputId": "c63f6ee6-2f9d-4e78-dd71-b2088ebde367"
      },
      "outputs": [
        {
          "name": "stdout",
          "output_type": "stream",
          "text": [
            "481\n"
          ]
        }
      ],
      "source": [
        "A=[20, 55, 67, 82, 45, 33, 90, 87, 100, 25]\n",
        "\n",
        "sum=0\n",
        "for i in A:\n",
        "    if i >= 50 :\n",
        "        sum+=i\n",
        "print(sum)"
      ]
    },
    {
      "cell_type": "markdown",
      "metadata": {
        "id": "CqQoTRGi77bE"
      },
      "source": [
        "### Q5"
      ]
    },
    {
      "cell_type": "code",
      "execution_count": null,
      "metadata": {
        "id": "aRPS7ZYG77bE",
        "outputId": "4a43bf33-c4a2-4f68-97ec-e91c060657fc"
      },
      "outputs": [
        {
          "name": "stdout",
          "output_type": "stream",
          "text": [
            "0 1 1 2 3 5 8 13 21 34 "
          ]
        }
      ],
      "source": [
        "def fib(n):\n",
        "    if n==0 : return 0\n",
        "    if n==1 : return 1\n",
        "    return fib(n-2)+fib(n-1)\n",
        "\n",
        "for i in range(10):\n",
        "    print(fib(i),end=' ')"
      ]
    },
    {
      "cell_type": "markdown",
      "metadata": {
        "id": "j4UOeIT777bF"
      },
      "source": [
        "### Q6"
      ]
    },
    {
      "cell_type": "code",
      "execution_count": null,
      "metadata": {
        "id": "IAdAbaFZ77bG",
        "outputId": "923acc5e-b413-4eb7-dd42-cccffb99a8fa"
      },
      "outputs": [
        {
          "name": "stdout",
          "output_type": "stream",
          "text": [
            "숫자를 입력하세요: 65,45,2,3,45,8\n",
            "168\n"
          ]
        }
      ],
      "source": [
        "numbers=input(\"숫자를 입력하세요: \")\n",
        "nums=numbers.split(',')\n",
        "sum=0\n",
        "for num in nums:\n",
        "    sum+=int(num)\n",
        "print(sum)"
      ]
    },
    {
      "cell_type": "markdown",
      "metadata": {
        "id": "lGBz95gh77bH"
      },
      "source": [
        "### Q7"
      ]
    },
    {
      "cell_type": "code",
      "execution_count": null,
      "metadata": {
        "id": "yrysTISb77bH",
        "outputId": "252af6c5-a215-4f49-a341-b4b25955ba85"
      },
      "outputs": [
        {
          "name": "stdout",
          "output_type": "stream",
          "text": [
            "구구단을 출력할 숫자를 입력하세요(2~9): 2\n",
            "2 4 6 8 10 12 14 16 18 "
          ]
        }
      ],
      "source": [
        "n=input('구구단을 출력할 숫자를 입력하세요(2~9): ')\n",
        "dan=int(n)\n",
        "for i in range(1,10):\n",
        "    print(i*dan,end=' ')"
      ]
    },
    {
      "cell_type": "markdown",
      "metadata": {
        "id": "j1xCC5bc77bI"
      },
      "source": [
        "### Q8"
      ]
    },
    {
      "cell_type": "code",
      "execution_count": null,
      "metadata": {
        "id": "smhAV9FV77bJ"
      },
      "outputs": [],
      "source": [
        "f=open('abc.txt','w')\n",
        "f.write('''AAA\n",
        "BBB\n",
        "CCC\n",
        "DDD\n",
        "EEE''')\n",
        "f.close()"
      ]
    },
    {
      "cell_type": "code",
      "execution_count": null,
      "metadata": {
        "id": "7V8i3iNv77bJ",
        "outputId": "53ebf933-8f10-452d-8e61-96e870e6c2c1"
      },
      "outputs": [
        {
          "data": {
            "text/plain": [
              "list"
            ]
          },
          "execution_count": 33,
          "metadata": {},
          "output_type": "execute_result"
        }
      ],
      "source": [
        "f=open('abc.txt','r')\n",
        "lines=f.readlines()\n",
        "f.close()\n",
        "\n",
        "type(lines)"
      ]
    },
    {
      "cell_type": "code",
      "execution_count": null,
      "metadata": {
        "id": "WlgCrhVL77bK",
        "outputId": "823b6cb4-e35e-48e6-cd9c-3eab0d088d3f"
      },
      "outputs": [
        {
          "name": "stdout",
          "output_type": "stream",
          "text": [
            "['EEE\\n', 'DDD\\n', 'CCC\\n', 'BBB\\n', 'AAA\\n']\n"
          ]
        }
      ],
      "source": [
        "lines.reverse()\n",
        "\n",
        "print(lines)"
      ]
    },
    {
      "cell_type": "code",
      "execution_count": null,
      "metadata": {
        "id": "L6KsQR2U77bK"
      },
      "outputs": [],
      "source": [
        "f=open('abc.txt','w')\n",
        "for line in lines:\n",
        "    line=line.strip()\n",
        "    f.write(line)\n",
        "    f.write('\\n')\n",
        "f.close()"
      ]
    },
    {
      "cell_type": "code",
      "execution_count": null,
      "metadata": {
        "id": "JfHpz6YX77bL",
        "outputId": "d4cd458f-5550-4fe7-fada-4a317673ae08"
      },
      "outputs": [
        {
          "name": "stdout",
          "output_type": "stream",
          "text": [
            "EEE\n",
            "DDD\n",
            "CCC\n",
            "BBB\n",
            "AAA\n",
            "\n"
          ]
        }
      ],
      "source": [
        "f=open('abc.txt','r')\n",
        "inData=f.read()\n",
        "f.close()\n",
        "print(inData)"
      ]
    },
    {
      "cell_type": "markdown",
      "metadata": {
        "id": "lIzi-cUo77bL"
      },
      "source": [
        "### Q9"
      ]
    },
    {
      "cell_type": "code",
      "execution_count": null,
      "metadata": {
        "id": "X3K_2B2H77bL"
      },
      "outputs": [],
      "source": [
        "f=open('sample.txt','w')\n",
        "f.write('''70\n",
        "60\n",
        "55\n",
        "75\n",
        "95\n",
        "90\n",
        "80\n",
        "80\n",
        "85\n",
        "100''')\n",
        "f.close()"
      ]
    },
    {
      "cell_type": "code",
      "execution_count": null,
      "metadata": {
        "id": "TGl-PHRd77bM"
      },
      "outputs": [],
      "source": [
        "f=open('sample.txt','r')\n",
        "numbers=f.readlines()\n",
        "\n",
        "sum=0\n",
        "for number in numbers :\n",
        "    num=number.strip()\n",
        "    sum+=int(num)\n",
        "avg=str(sum/len(numbers))\n",
        "\n",
        "f.close()\n",
        "f=open('result.txt','w')\n",
        "f.write(avg)\n",
        "f.close()"
      ]
    },
    {
      "cell_type": "markdown",
      "metadata": {
        "id": "audWhl4E77bM"
      },
      "source": [
        "### Q10"
      ]
    },
    {
      "cell_type": "code",
      "execution_count": null,
      "metadata": {
        "id": "SC2NgxBz77bN",
        "outputId": "a7e90cb2-af5a-4e37-d7ba-a09bc5052804"
      },
      "outputs": [
        {
          "name": "stdout",
          "output_type": "stream",
          "text": [
            "15\n",
            "3.0\n",
            "40\n",
            "8.0\n"
          ]
        }
      ],
      "source": [
        "class Calculator:\n",
        "    def __init__ (self, numberList): \n",
        "        self.numberList = numberList\n",
        "\n",
        "    def add(self):\n",
        "        result = 0\n",
        "        for num in self.numberList: \n",
        "            result += num\n",
        "        return result\n",
        "\n",
        "    def avg(self):\n",
        "        total = self.add()\n",
        "        return total / len(self.numberList)\n",
        "\n",
        "cal1 = Calculator([1,2,3,4,5]) \n",
        "print (cal1.add())\n",
        "print (cal1.avg())\n",
        "\n",
        "cal2 = Calculator([6,7,8,9,10]) \n",
        "print (cal2.add())\n",
        "print (cal2.avg())"
      ]
    },
    {
      "cell_type": "markdown",
      "metadata": {
        "id": "EDqPrdp977bN"
      },
      "source": [
        "### Q11"
      ]
    },
    {
      "cell_type": "markdown",
      "metadata": {
        "id": "HnoGVPb877bN"
      },
      "source": [
        "#### 첫번째 방법"
      ]
    },
    {
      "cell_type": "code",
      "execution_count": null,
      "metadata": {
        "id": "EC9Hn-T977bO"
      },
      "outputs": [],
      "source": [
        "import sys\n",
        "sys.path.append(\"c:\\doit\")\n",
        "import mymod"
      ]
    },
    {
      "cell_type": "markdown",
      "metadata": {
        "id": "oh0_K9jl77bO"
      },
      "source": [
        "#### 두번째 방법\n",
        "터미널에서\n",
        "\n",
        "C:\\Users\\home>set PYTHONPATH=c:\\doit\n",
        "C:\\Users\\home>python\n",
        "$>>>$ import mymod"
      ]
    },
    {
      "cell_type": "markdown",
      "metadata": {
        "id": "bW3w4k6r77bO"
      },
      "source": [
        "#### 세번째 방법\n",
        "터미널에서\n",
        "\n",
        "C:\\Users\\home>cd c:\\doit\n",
        "C:\\doit>python\n",
        "$>>>$ import mymod"
      ]
    },
    {
      "cell_type": "markdown",
      "metadata": {
        "id": "qyGE6I1377bO"
      },
      "source": [
        "### Q12"
      ]
    },
    {
      "cell_type": "code",
      "execution_count": null,
      "metadata": {
        "id": "CQtp3Rci77bP",
        "outputId": "5201527e-a07e-498c-bf78-dccf8e27a28a"
      },
      "outputs": [
        {
          "name": "stdout",
          "output_type": "stream",
          "text": [
            "7\n"
          ]
        }
      ],
      "source": [
        "result=0 #result=0\n",
        "\n",
        "try:\n",
        "    [1,2,3][3] #IndexError\n",
        "    \"a\"+1\n",
        "    4/0\n",
        "except TypeError:\n",
        "    result+=1\n",
        "except ZeroDivisionError:\n",
        "    result+=2\n",
        "except IndexError:\n",
        "    result+=3 #result=3\n",
        "finally:\n",
        "    result+=4 #result=7\n",
        "    \n",
        "print(result)"
      ]
    },
    {
      "cell_type": "markdown",
      "metadata": {
        "id": "rxYQZcJG77bP"
      },
      "source": [
        "### Q13"
      ]
    },
    {
      "cell_type": "code",
      "execution_count": null,
      "metadata": {
        "scrolled": true,
        "id": "UBXYMxdU77bP",
        "outputId": "7b941dbe-54f1-44c7-d2b7-3a113775d7a2"
      },
      "outputs": [
        {
          "name": "stdout",
          "output_type": "stream",
          "text": [
            "454*67-9-3\n"
          ]
        }
      ],
      "source": [
        "data='4546793'\n",
        "nums=list(map(int,data))\n",
        "m=[]\n",
        "\n",
        "for i in range(len(nums)-1):\n",
        "    m.append(str(nums[i]))\n",
        "    if nums[i]%2==1 and nums[i+1]%2==1 :\n",
        "        m.append('-')\n",
        "    elif nums[i]%2==0 and nums[i+1]%2==0 :\n",
        "        m.append('*')\n",
        "    i+=1\n",
        "m.append(str(nums[i]))\n",
        "m=\"\".join(m)\n",
        "print(m)"
      ]
    },
    {
      "cell_type": "markdown",
      "metadata": {
        "id": "BORbeVCG77bQ"
      },
      "source": [
        "### Q14"
      ]
    },
    {
      "cell_type": "code",
      "execution_count": null,
      "metadata": {
        "id": "p3Ek3rmy77bQ",
        "outputId": "2aa702eb-5cf1-49fd-aed2-3b47b25c6b59"
      },
      "outputs": [
        {
          "name": "stdout",
          "output_type": "stream",
          "text": [
            "['a', 'a', 'a', 3, 'b', 'b', 2, 'c', 'c', 'c', 'c', 'c', 5, 'a']\n"
          ]
        }
      ],
      "source": [
        "ch='aaabbccccca'\n",
        "ch=list(ch)\n",
        "\n",
        "cnt=1\n",
        "result=[]\n",
        "for i in range(len(ch)-1):\n",
        "    result.append(ch[i])\n",
        "    if ch[i]==ch[i+1] :\n",
        "        cnt+=1\n",
        "    else :\n",
        "        result.append(cnt)\n",
        "        cnt=1\n",
        "result.append(ch[-1])\n",
        "if ch[-2]==ch[-1] : result.append(cnt)\n",
        "\n",
        "print(result)"
      ]
    },
    {
      "cell_type": "markdown",
      "metadata": {
        "id": "S5SRl07m77bR"
      },
      "source": [
        "### Q15"
      ]
    },
    {
      "cell_type": "code",
      "execution_count": null,
      "metadata": {
        "id": "uMEc7fDw77bR",
        "outputId": "63e38aca-001d-462e-c689-f59c7477f483"
      },
      "outputs": [
        {
          "name": "stdout",
          "output_type": "stream",
          "text": [
            "True\n",
            "False\n",
            "False\n",
            "True\n",
            "False\n"
          ]
        }
      ],
      "source": [
        "def DNum(s):\n",
        "    result=[]\n",
        "    for num in s:\n",
        "        if num not in result:\n",
        "            result.append(num)\n",
        "        else:\n",
        "            return False\n",
        "    return len(result)==10\n",
        "print(DNum('0123456789'))\n",
        "print(DNum('01234'))\n",
        "print(DNum('01234567890'))\n",
        "print(DNum('6789012345'))\n",
        "print(DNum('012322456789'))"
      ]
    },
    {
      "cell_type": "markdown",
      "metadata": {
        "id": "4ITGUgSR77bR"
      },
      "source": [
        "### Q16"
      ]
    },
    {
      "cell_type": "code",
      "execution_count": null,
      "metadata": {
        "id": "uG3mxZuF77bS",
        "outputId": "e3feee66-70e6-4829-a391-472a957e80b9"
      },
      "outputs": [
        {
          "name": "stdout",
          "output_type": "stream",
          "text": [
            "HE SLEEPS EARLY\n"
          ]
        }
      ],
      "source": [
        "dic = {\n",
        "    '.-':'A','-...':'B','-.-.':'C','-..':'D','.':'E','..-.':'F',\n",
        "    '--.':'G','....':'H','..':'I','.---':'J','-.-':'K','.-..':'L',\n",
        "    '--':'M','-.':'N','---':'O','.--.':'P','--.-':'Q','.-.':'R',\n",
        "    '...':'S','-':'T','..-':'U','...-':'V','.--':'W','-..-':'X',\n",
        "    '-.--':'Y','--..':'Z'\n",
        "}\n",
        "\n",
        "def morse(ch):\n",
        "    result=[]\n",
        "    for word in ch.split(' '):\n",
        "        if word in dic:\n",
        "            result.append(dic[word])\n",
        "        else:\n",
        "            result.append(' ')\n",
        "    result=''.join(result)\n",
        "    print(result)\n",
        "    \n",
        "morse('.... .  ... .-.. . . .--. ...  . .- .-. .-.. -.--')"
      ]
    },
    {
      "cell_type": "markdown",
      "metadata": {
        "id": "pzsG4R0H77bS"
      },
      "source": [
        "### Q17"
      ]
    },
    {
      "cell_type": "code",
      "execution_count": null,
      "metadata": {
        "id": "QUO-wAho77bS",
        "outputId": "de61e98e-afa1-4a80-cca4-da0919fef5ba"
      },
      "outputs": [
        {
          "name": "stdout",
          "output_type": "stream",
          "text": [
            "None\n",
            "<re.Match object; span=(0, 6), match='a....b'>\n",
            "None\n",
            "None\n"
          ]
        }
      ],
      "source": [
        "import re\n",
        "\n",
        "p=re.compile(\"a[.]{3,}b\")\n",
        "\n",
        "print(p.match(\"acccb\"))\n",
        "print(p.match(\"a....b\"))\n",
        "print(p.match(\"aaab\"))\n",
        "print(p.match(\"a.cccb\"))"
      ]
    },
    {
      "cell_type": "markdown",
      "metadata": {
        "id": "JLYgrtPX77bS"
      },
      "source": [
        "### Q18"
      ]
    },
    {
      "cell_type": "code",
      "execution_count": null,
      "metadata": {
        "id": "h2J1vi3D77bT",
        "outputId": "9c04f53b-6cce-4d94-f5ba-9652b131187b"
      },
      "outputs": [
        {
          "data": {
            "text/plain": [
              "10"
            ]
          },
          "execution_count": 12,
          "metadata": {},
          "output_type": "execute_result"
        }
      ],
      "source": [
        "import re\n",
        "p=re.compile(\"[a-z]+\") #소문자로 이루어진 단어\n",
        "m=p.search(\"5 python\") #python\n",
        "m.start()+m.end() #python의 시작 인덱스+python의 마지막 인덱스=2+8=10"
      ]
    },
    {
      "cell_type": "markdown",
      "metadata": {
        "id": "o7z-Gus877bT"
      },
      "source": [
        "### Q19"
      ]
    },
    {
      "cell_type": "code",
      "execution_count": null,
      "metadata": {
        "id": "QGzqW7Yr77bT",
        "outputId": "3583d4ab-0e24-4d4e-d1e2-f0d4ce13d5d6"
      },
      "outputs": [
        {
          "name": "stdout",
          "output_type": "stream",
          "text": [
            "\n",
            "park 010-9999-####\n",
            "kim 010-9909-####\n",
            "lee 010-8789-####\n",
            "\n"
          ]
        }
      ],
      "source": [
        "import re\n",
        "\n",
        "s='''\n",
        "park 010-9999-9988\n",
        "kim 010-9909-7789\n",
        "lee 010-8789-7768\n",
        "'''\n",
        "\n",
        "pat=re.compile(\"(\\d{3}[-]\\d{4})[-]\\d{4}\")\n",
        "result=pat.sub(\"\\g<1>-####\",s)\n",
        "\n",
        "print(result)"
      ]
    },
    {
      "cell_type": "markdown",
      "metadata": {
        "id": "dzgwjDWN77bU"
      },
      "source": [
        "### Q20"
      ]
    },
    {
      "cell_type": "code",
      "execution_count": null,
      "metadata": {
        "id": "f7BYQmGb77bU",
        "outputId": "09e07b6b-0346-489a-d619-adaac4c32b0e"
      },
      "outputs": [
        {
          "name": "stdout",
          "output_type": "stream",
          "text": [
            "<re.Match object; span=(0, 16), match='pahkey@gmail.com'>\n",
            "<re.Match object; span=(0, 12), match='kim@daum.net'>\n",
            "None\n"
          ]
        }
      ],
      "source": [
        "import re\n",
        "\n",
        "pat = re.compile(\".*[@].*[.](?=com$|net$).*$\")\n",
        "\n",
        "print(pat.match(\"pahkey@gmail.com\"))\n",
        "print(pat.match(\"kim@daum.net\"))\n",
        "print(pat.match(\"lee@myhome.co.kr\"))"
      ]
    },
    {
      "cell_type": "code",
      "execution_count": null,
      "metadata": {
        "id": "GYw_NN7q77bU"
      },
      "outputs": [],
      "source": [
        ""
      ]
    }
  ],
  "metadata": {
    "kernelspec": {
      "display_name": "Python 3",
      "language": "python",
      "name": "python3"
    },
    "language_info": {
      "codemirror_mode": {
        "name": "ipython",
        "version": 3
      },
      "file_extension": ".py",
      "mimetype": "text/x-python",
      "name": "python",
      "nbconvert_exporter": "python",
      "pygments_lexer": "ipython3",
      "version": "3.7.3"
    },
    "colab": {
      "name": "exerise-8.ipynb",
      "provenance": [],
      "include_colab_link": true
    }
  },
  "nbformat": 4,
  "nbformat_minor": 0
}