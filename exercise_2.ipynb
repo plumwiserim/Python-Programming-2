{
  "cells": [
    {
      "cell_type": "markdown",
      "metadata": {
        "id": "view-in-github",
        "colab_type": "text"
      },
      "source": [
        "<a href=\"https://colab.research.google.com/github/plumwiserim/Python-Programming-2/blob/main/exercise_2.ipynb\" target=\"_parent\"><img src=\"https://colab.research.google.com/assets/colab-badge.svg\" alt=\"Open In Colab\"/></a>"
      ]
    },
    {
      "cell_type": "code",
      "execution_count": null,
      "metadata": {
        "id": "sfAPGlCg7sEQ",
        "outputId": "ad6bc442-9c14-45b8-e6e4-e9457835af9c"
      },
      "outputs": [
        {
          "data": {
            "text/plain": [
              "70.0"
            ]
          },
          "execution_count": 1,
          "metadata": {},
          "output_type": "execute_result"
        }
      ],
      "source": [
        "a=80\n",
        "b=75\n",
        "c=55\n",
        "avg=(a+b+c)/3\n",
        "avg"
      ]
    },
    {
      "cell_type": "code",
      "execution_count": null,
      "metadata": {
        "id": "nxMTeKdb7sEY",
        "outputId": "a0599161-c86e-4c64-a0b8-fda5682af0c3"
      },
      "outputs": [
        {
          "name": "stdout",
          "output_type": "stream",
          "text": [
            "숫자를 입력하세요13\n",
            "홀수\n"
          ]
        }
      ],
      "source": [
        "num=int(input(\"숫자를 입력하세요\"))\n",
        "if num%2==1:\n",
        "    print(\"홀수\")\n",
        "else:\n",
        "    print(\"짝수\")"
      ]
    },
    {
      "cell_type": "code",
      "execution_count": null,
      "metadata": {
        "id": "3FaK_Y5e7sEb",
        "outputId": "b8659eae-d8a3-429c-e237-f42d4c9a98a8"
      },
      "outputs": [
        {
          "name": "stdout",
          "output_type": "stream",
          "text": [
            "881120\n",
            "1068234\n"
          ]
        }
      ],
      "source": [
        "pin='881120-1068234'\n",
        "yyyymmdd=pin[:6]\n",
        "print(yyyymmdd)\n",
        "num=pin[7:]\n",
        "print(num)"
      ]
    },
    {
      "cell_type": "code",
      "execution_count": null,
      "metadata": {
        "id": "Jq2ilKH77sEd",
        "outputId": "a1006620-3dc8-4081-e32e-7f3abe7c7c2a"
      },
      "outputs": [
        {
          "name": "stdout",
          "output_type": "stream",
          "text": [
            "1\n"
          ]
        }
      ],
      "source": [
        "pin='881120-1068234'\n",
        "print(pin[7])"
      ]
    },
    {
      "cell_type": "code",
      "execution_count": null,
      "metadata": {
        "id": "Di5SclYg7sEe",
        "outputId": "f0fcf590-23ac-4100-a3b8-bf67fde77410"
      },
      "outputs": [
        {
          "name": "stdout",
          "output_type": "stream",
          "text": [
            "a#b#c#d\n"
          ]
        }
      ],
      "source": [
        "a=\"a:b:c:d\"\n",
        "a=a.replace(\":\",\"#\")\n",
        "print(a)"
      ]
    },
    {
      "cell_type": "code",
      "execution_count": null,
      "metadata": {
        "id": "hjANUW-O7sEg",
        "outputId": "a6aa3d3e-1571-499c-d745-2b9ad63812a1"
      },
      "outputs": [
        {
          "name": "stdout",
          "output_type": "stream",
          "text": [
            "[5, 4, 3, 2, 1]\n"
          ]
        }
      ],
      "source": [
        "a=[1,3,5,4,2]\n",
        "a.sort()\n",
        "a.reverse()\n",
        "print(a)"
      ]
    },
    {
      "cell_type": "code",
      "execution_count": null,
      "metadata": {
        "id": "BCbZqkij7sEh",
        "outputId": "1aa5c4df-6e3d-4ae4-a1d5-9c4ee2b9450d"
      },
      "outputs": [
        {
          "name": "stdout",
          "output_type": "stream",
          "text": [
            "Life is too short\n"
          ]
        }
      ],
      "source": [
        "a=['Life','is','too','short']\n",
        "a=\" \".join(a)\n",
        "print(a)"
      ]
    },
    {
      "cell_type": "code",
      "execution_count": null,
      "metadata": {
        "id": "NHet006e7sEi",
        "outputId": "a17b7ccd-ae07-4916-a438-008a08c27e37"
      },
      "outputs": [
        {
          "name": "stdout",
          "output_type": "stream",
          "text": [
            "(1, 2, 3, 4)\n"
          ]
        }
      ],
      "source": [
        "a=(1,2,3)\n",
        "a=a+(4,)\n",
        "print(a)"
      ]
    },
    {
      "cell_type": "code",
      "execution_count": null,
      "metadata": {
        "id": "2UgSaFe27sEj",
        "outputId": "d8a1d9c2-3c66-48a5-bf18-d157a9bb7799"
      },
      "outputs": [
        {
          "data": {
            "text/plain": [
              "{}"
            ]
          },
          "execution_count": 19,
          "metadata": {},
          "output_type": "execute_result"
        }
      ],
      "source": [
        "a=dict()\n",
        "a"
      ]
    },
    {
      "cell_type": "code",
      "execution_count": null,
      "metadata": {
        "id": "JUGIc9HQ7sEk",
        "outputId": "596cde26-a5a7-4396-dd93-2acc85f7d694"
      },
      "outputs": [
        {
          "data": {
            "text/plain": [
              "{'name': 'python'}"
            ]
          },
          "execution_count": 20,
          "metadata": {},
          "output_type": "execute_result"
        }
      ],
      "source": [
        "a['name']='python'\n",
        "a"
      ]
    },
    {
      "cell_type": "code",
      "execution_count": null,
      "metadata": {
        "id": "IRkaUa2-7sEl",
        "outputId": "d60c3afe-ad1e-4dfd-97c6-92172f73b289"
      },
      "outputs": [
        {
          "data": {
            "text/plain": [
              "{'name': 'python', ('a',): 'python'}"
            ]
          },
          "execution_count": 21,
          "metadata": {},
          "output_type": "execute_result"
        }
      ],
      "source": [
        "a[('a',)]='python'\n",
        "a"
      ]
    },
    {
      "cell_type": "code",
      "execution_count": null,
      "metadata": {
        "id": "O1biX9-E7sEm",
        "outputId": "828cb6fa-5a73-4292-f27d-bd349dc8ece9"
      },
      "outputs": [
        {
          "ename": "TypeError",
          "evalue": "unhashable type: 'list'",
          "output_type": "error",
          "traceback": [
            "\u001b[1;31m---------------------------------------------------------------------------\u001b[0m",
            "\u001b[1;31mTypeError\u001b[0m                                 Traceback (most recent call last)",
            "\u001b[1;32m<ipython-input-22-172a07164315>\u001b[0m in \u001b[0;36m<module>\u001b[1;34m\u001b[0m\n\u001b[1;32m----> 1\u001b[1;33m \u001b[0ma\u001b[0m\u001b[1;33m[\u001b[0m\u001b[1;33m[\u001b[0m\u001b[1;36m1\u001b[0m\u001b[1;33m]\u001b[0m\u001b[1;33m]\u001b[0m\u001b[1;33m=\u001b[0m\u001b[1;34m'python'\u001b[0m\u001b[1;33m\u001b[0m\u001b[1;33m\u001b[0m\u001b[0m\n\u001b[0m",
            "\u001b[1;31mTypeError\u001b[0m: unhashable type: 'list'"
          ]
        }
      ],
      "source": [
        "a[[1]]='python'"
      ]
    },
    {
      "cell_type": "code",
      "execution_count": null,
      "metadata": {
        "id": "lJOFADtL7sEm",
        "outputId": "34e58249-a0ea-4c94-8548-30b84c92823e"
      },
      "outputs": [
        {
          "data": {
            "text/plain": [
              "{'name': 'python', ('a',): 'python', 250: 'python'}"
            ]
          },
          "execution_count": 24,
          "metadata": {},
          "output_type": "execute_result"
        }
      ],
      "source": [
        "a[250]='python'\n",
        "a"
      ]
    },
    {
      "cell_type": "code",
      "execution_count": null,
      "metadata": {
        "id": "U-1-_LM67sEn",
        "outputId": "f6200d21-9bf7-4e4d-e288-94f9fa3df93d"
      },
      "outputs": [
        {
          "name": "stdout",
          "output_type": "stream",
          "text": [
            "80\n"
          ]
        }
      ],
      "source": [
        "a={'A':90,'B':80,'C':70}\n",
        "b=a.pop('B')\n",
        "print(b)"
      ]
    },
    {
      "cell_type": "code",
      "execution_count": null,
      "metadata": {
        "id": "seffqYvo7sEn",
        "outputId": "8a1ff4a6-0739-48a2-d655-bc5d157a4b55"
      },
      "outputs": [
        {
          "data": {
            "text/plain": [
              "[1, 2, 3, 4, 5]"
            ]
          },
          "execution_count": 29,
          "metadata": {},
          "output_type": "execute_result"
        }
      ],
      "source": [
        "a=[1,1,1,2,2,3,3,3,4,4,5]\n",
        "a=set(a)\n",
        "a=list(a)\n",
        "a"
      ]
    },
    {
      "cell_type": "code",
      "execution_count": null,
      "metadata": {
        "id": "riI-uFUJ7sEo",
        "outputId": "3a140ad4-1ea5-4331-a644-08b70be33c29"
      },
      "outputs": [
        {
          "name": "stdout",
          "output_type": "stream",
          "text": [
            "[1, 4, 3]\n"
          ]
        }
      ],
      "source": [
        "a=b=[1,2,3]\n",
        "a[1]=4\n",
        "print(b)"
      ]
    },
    {
      "cell_type": "code",
      "execution_count": null,
      "metadata": {
        "id": "o9BlHf5y7sEp"
      },
      "outputs": [],
      "source": [
        ""
      ]
    }
  ],
  "metadata": {
    "kernelspec": {
      "display_name": "Python 3",
      "language": "python",
      "name": "python3"
    },
    "language_info": {
      "codemirror_mode": {
        "name": "ipython",
        "version": 3
      },
      "file_extension": ".py",
      "mimetype": "text/x-python",
      "name": "python",
      "nbconvert_exporter": "python",
      "pygments_lexer": "ipython3",
      "version": "3.7.3"
    },
    "colab": {
      "name": "exercise-2.ipynb",
      "provenance": [],
      "include_colab_link": true
    }
  },
  "nbformat": 4,
  "nbformat_minor": 0
}