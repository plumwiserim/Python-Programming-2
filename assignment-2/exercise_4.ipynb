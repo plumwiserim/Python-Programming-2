{
  "cells": [
    {
      "cell_type": "markdown",
      "metadata": {
        "id": "view-in-github",
        "colab_type": "text"
      },
      "source": [
        "<a href=\"https://colab.research.google.com/github/plumwiserim/Python-Programming-2/blob/main/exercise_4.ipynb\" target=\"_parent\"><img src=\"https://colab.research.google.com/assets/colab-badge.svg\" alt=\"Open In Colab\"/></a>"
      ]
    },
    {
      "cell_type": "code",
      "execution_count": null,
      "metadata": {
        "id": "4B9XouO88ijV"
      },
      "outputs": [],
      "source": [
        "def is_odd(num):\n",
        "    if num%2==0:\n",
        "        print(\"짝수\")\n",
        "    else:\n",
        "        print(\"홀수\")"
      ]
    },
    {
      "cell_type": "code",
      "execution_count": null,
      "metadata": {
        "id": "lRrG9MwB8ijY",
        "outputId": "978df8fa-6dbe-4d99-8fb9-e6f22d341505"
      },
      "outputs": [
        {
          "name": "stdout",
          "output_type": "stream",
          "text": [
            "짝수\n"
          ]
        }
      ],
      "source": [
        "is_odd(2)"
      ]
    },
    {
      "cell_type": "code",
      "execution_count": null,
      "metadata": {
        "id": "RFTWfz3V8ijb",
        "outputId": "7ead9f90-ccfb-40ec-8b2f-b38f32aa6acf"
      },
      "outputs": [
        {
          "name": "stdout",
          "output_type": "stream",
          "text": [
            "홀수\n"
          ]
        }
      ],
      "source": [
        "is_odd(3)"
      ]
    },
    {
      "cell_type": "code",
      "execution_count": null,
      "metadata": {
        "id": "WIx2DkWA8ijc",
        "outputId": "fa550f11-6ef5-4cfe-cca5-2302c325ed6a"
      },
      "outputs": [
        {
          "name": "stdout",
          "output_type": "stream",
          "text": [
            "첫번째 숫자를 입력하세요:3\n",
            "두번째 숫자를 입력하세요:6\n",
            "두 수의 합은 9 입니다\n"
          ]
        }
      ],
      "source": [
        "input1=input(\"첫번째 숫자를 입력하세요:\")\n",
        "input2=input(\"두번째 숫자를 입력하세요:\")\n",
        "\n",
        "total=int(input1)+int(input2)\n",
        "print(\"두 수의 합은 %s 입니다\" % total)"
      ]
    },
    {
      "cell_type": "code",
      "execution_count": null,
      "metadata": {
        "id": "qP33yP_08ije",
        "outputId": "22d74fc4-2c28-4f9a-c3d7-f51638893853"
      },
      "outputs": [
        {
          "name": "stdout",
          "output_type": "stream",
          "text": [
            "youneedpython\n",
            "youneedpython\n",
            "you need python\n",
            "youneedpython\n"
          ]
        }
      ],
      "source": [
        "print(\"you\" \"need\" \"python\")\n",
        "print(\"you\"+\"need\"+\"python\")\n",
        "print(\"you\", \"need\", \"python\")\n",
        "print(\"\".join([\"you\",\"need\",\"python\"]))"
      ]
    },
    {
      "cell_type": "code",
      "execution_count": null,
      "metadata": {
        "id": "Jpy2JJ9F8ijg",
        "outputId": "55e2e463-c13a-4059-cf48-af8db613e130"
      },
      "outputs": [
        {
          "name": "stdout",
          "output_type": "stream",
          "text": [
            "Life is too short\n"
          ]
        }
      ],
      "source": [
        "f1=open(\"test.txt\",'w')\n",
        "f1.write(\"Life is too short\")\n",
        "f1.close()\n",
        "\n",
        "f2=open(\"test.txt\",'r')\n",
        "print(f2.read())\n",
        "f2.close()"
      ]
    },
    {
      "cell_type": "code",
      "execution_count": null,
      "metadata": {
        "id": "RN8aannT8iji",
        "outputId": "6493f502-3dda-429f-f316-8f31a788d541"
      },
      "outputs": [
        {
          "name": "stdout",
          "output_type": "stream",
          "text": [
            "내용을 입력하세요you need java\n"
          ]
        }
      ],
      "source": [
        "f=open(\"test.txt\",'a')\n",
        "data=input(\"내용을 입력하세요\")\n",
        "f.write(data+\"\\n\")\n",
        "f.close()"
      ]
    },
    {
      "cell_type": "code",
      "execution_count": null,
      "metadata": {
        "id": "xmN2W_bM8ijj"
      },
      "outputs": [],
      "source": [
        "f=open(\"test.txt\",'r')\n",
        "data=f.read()\n",
        "f.close()\n",
        "\n",
        "data=data.replace('java','python')\n",
        "\n",
        "f=open('test.txt','w')\n",
        "f.write(data)\n",
        "f.close()"
      ]
    },
    {
      "cell_type": "code",
      "execution_count": null,
      "metadata": {
        "id": "GTT7hRMX8ijk"
      },
      "outputs": [],
      "source": [
        ""
      ]
    }
  ],
  "metadata": {
    "kernelspec": {
      "display_name": "Python 3",
      "language": "python",
      "name": "python3"
    },
    "language_info": {
      "codemirror_mode": {
        "name": "ipython",
        "version": 3
      },
      "file_extension": ".py",
      "mimetype": "text/x-python",
      "name": "python",
      "nbconvert_exporter": "python",
      "pygments_lexer": "ipython3",
      "version": "3.7.3"
    },
    "colab": {
      "name": "exercise-4.ipynb",
      "provenance": [],
      "include_colab_link": true
    }
  },
  "nbformat": 4,
  "nbformat_minor": 0
}