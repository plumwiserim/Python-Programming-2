{
  "cells": [
    {
      "cell_type": "markdown",
      "metadata": {
        "id": "view-in-github",
        "colab_type": "text"
      },
      "source": [
        "<a href=\"https://colab.research.google.com/github/plumwiserim/Python-Programming-2/blob/main/exercise_5.ipynb\" target=\"_parent\"><img src=\"https://colab.research.google.com/assets/colab-badge.svg\" alt=\"Open In Colab\"/></a>"
      ]
    },
    {
      "cell_type": "markdown",
      "metadata": {
        "id": "d1rLQexl6qPd"
      },
      "source": [
        "### Q1"
      ]
    },
    {
      "cell_type": "code",
      "execution_count": null,
      "metadata": {
        "id": "VRsWYrvn6qPi",
        "outputId": "8f84f819-fe4a-4592-e3ca-bbfc2013521c"
      },
      "outputs": [
        {
          "name": "stdout",
          "output_type": "stream",
          "text": [
            "3\n"
          ]
        }
      ],
      "source": [
        "class Calculator:\n",
        "    def __init__(self):\n",
        "        self.value=0\n",
        "    \n",
        "    def add(self, val):\n",
        "        self.value+=val\n",
        "\n",
        "class UpgradeCalculator(Calculator):\n",
        "    def minus(self,val):\n",
        "        self.value-=val\n",
        "\n",
        "cal=UpgradeCalculator()\n",
        "cal.add(10)\n",
        "cal.minus(7)\n",
        "\n",
        "print(cal.value)"
      ]
    },
    {
      "cell_type": "markdown",
      "metadata": {
        "id": "g2siWuxt6qPn"
      },
      "source": [
        "### Q2"
      ]
    },
    {
      "cell_type": "code",
      "execution_count": null,
      "metadata": {
        "id": "6RAGUmYY6qPo",
        "outputId": "f56f9be2-ee2c-409a-d205-55b2a77b5651"
      },
      "outputs": [
        {
          "name": "stdout",
          "output_type": "stream",
          "text": [
            "100\n"
          ]
        }
      ],
      "source": [
        "class MaxLimitCalculator(Calculator):\n",
        "    def add(self,val):\n",
        "        self.value+=val\n",
        "        if self.value>100 :\n",
        "            self.value=100\n",
        "\n",
        "cal=MaxLimitCalculator()\n",
        "cal.add(50)\n",
        "cal.add(60)\n",
        "\n",
        "print(cal.value)"
      ]
    },
    {
      "cell_type": "markdown",
      "metadata": {
        "id": "M7v7ghso6qPp"
      },
      "source": [
        "### Q3"
      ]
    },
    {
      "cell_type": "code",
      "execution_count": null,
      "metadata": {
        "id": "o4y3IIiA6qPq",
        "outputId": "64809f04-2a5c-46ef-fa3d-85b332d811cc"
      },
      "outputs": [
        {
          "data": {
            "text/plain": [
              "False"
            ]
          },
          "execution_count": 6,
          "metadata": {},
          "output_type": "execute_result"
        }
      ],
      "source": [
        "all([1,2,abs(-3)-3]) #all([1,2,0])"
      ]
    },
    {
      "cell_type": "code",
      "execution_count": null,
      "metadata": {
        "id": "LmKxxHfy6qPr",
        "outputId": "b5b4c0cc-4e40-49a3-f04d-235a2d824146"
      },
      "outputs": [
        {
          "data": {
            "text/plain": [
              "True"
            ]
          },
          "execution_count": 7,
          "metadata": {},
          "output_type": "execute_result"
        }
      ],
      "source": [
        "chr(ord('a'))=='a' #chr(97)=='a'"
      ]
    },
    {
      "cell_type": "markdown",
      "metadata": {
        "id": "fg2gZqEi6qPs"
      },
      "source": [
        "### Q4"
      ]
    },
    {
      "cell_type": "code",
      "execution_count": null,
      "metadata": {
        "id": "t_HPc8Vs6qPt",
        "outputId": "5cfd43fd-f89d-4ae1-dc90-df51d64662c8"
      },
      "outputs": [
        {
          "data": {
            "text/plain": [
              "[1, 3, 8]"
            ]
          },
          "execution_count": 8,
          "metadata": {},
          "output_type": "execute_result"
        }
      ],
      "source": [
        "list(filter(lambda x:x>0, [1,-2,3,-5,8,-3]))"
      ]
    },
    {
      "cell_type": "markdown",
      "metadata": {
        "id": "YXuwCpbc6qPu"
      },
      "source": [
        "### Q5"
      ]
    },
    {
      "cell_type": "code",
      "execution_count": null,
      "metadata": {
        "id": "NITZETdy6qPv",
        "outputId": "a453868a-f7d1-40f8-96bf-de8072b3970e"
      },
      "outputs": [
        {
          "data": {
            "text/plain": [
              "'0xea'"
            ]
          },
          "execution_count": 10,
          "metadata": {},
          "output_type": "execute_result"
        }
      ],
      "source": [
        "hex(234)"
      ]
    },
    {
      "cell_type": "code",
      "execution_count": null,
      "metadata": {
        "id": "q7fvi_376qPw",
        "outputId": "b11c49be-f89c-4475-e5b1-aed89f69d3ac"
      },
      "outputs": [
        {
          "data": {
            "text/plain": [
              "234"
            ]
          },
          "execution_count": 11,
          "metadata": {},
          "output_type": "execute_result"
        }
      ],
      "source": [
        "int('0xea',16)"
      ]
    },
    {
      "cell_type": "markdown",
      "metadata": {
        "id": "1hUzSxBU6qPx"
      },
      "source": [
        "### Q6"
      ]
    },
    {
      "cell_type": "code",
      "execution_count": null,
      "metadata": {
        "id": "w721fOD_6qPx",
        "outputId": "cd7f4002-1a98-4483-cdfd-9322c0e44871"
      },
      "outputs": [
        {
          "data": {
            "text/plain": [
              "[3, 6, 9, 12]"
            ]
          },
          "execution_count": 13,
          "metadata": {},
          "output_type": "execute_result"
        }
      ],
      "source": [
        "list(map(lambda x:x*3, [1,2,3,4]))"
      ]
    },
    {
      "cell_type": "markdown",
      "metadata": {
        "id": "EwrnAIQ06qPy"
      },
      "source": [
        "### Q7"
      ]
    },
    {
      "cell_type": "code",
      "execution_count": null,
      "metadata": {
        "id": "8NTXluOT6qPy",
        "outputId": "5c5bcb62-91e3-43db-cf02-064cbba235c0"
      },
      "outputs": [
        {
          "data": {
            "text/plain": [
              "-1"
            ]
          },
          "execution_count": 14,
          "metadata": {},
          "output_type": "execute_result"
        }
      ],
      "source": [
        "a=[-8, 2, 7, 5, -3, 5, 0, 1]\n",
        "max(a)+min(a)"
      ]
    },
    {
      "cell_type": "markdown",
      "metadata": {
        "id": "WbG6vFm-6qPz"
      },
      "source": [
        "### Q8"
      ]
    },
    {
      "cell_type": "code",
      "execution_count": null,
      "metadata": {
        "id": "_eajEZx-6qP0",
        "outputId": "91aefbc0-5e02-429a-b462-ba45847664db"
      },
      "outputs": [
        {
          "data": {
            "text/plain": [
              "5.666666666666667"
            ]
          },
          "execution_count": 15,
          "metadata": {},
          "output_type": "execute_result"
        }
      ],
      "source": [
        "17/3"
      ]
    },
    {
      "cell_type": "code",
      "execution_count": null,
      "metadata": {
        "id": "88hPjO0o6qP0",
        "outputId": "491ec6d5-859f-46ea-9591-34f265972a05"
      },
      "outputs": [
        {
          "data": {
            "text/plain": [
              "5.6667"
            ]
          },
          "execution_count": 16,
          "metadata": {},
          "output_type": "execute_result"
        }
      ],
      "source": [
        "round(17/3,4)"
      ]
    },
    {
      "cell_type": "markdown",
      "metadata": {
        "id": "vBXMAJDJ6qP1"
      },
      "source": [
        "### Q9"
      ]
    },
    {
      "cell_type": "markdown",
      "metadata": {
        "scrolled": false,
        "id": "r1vuNEau6qP2"
      },
      "source": [
        "import sys\n",
        "\n",
        "numbers=sys.argv[1:]\n",
        "\n",
        "result=0\n",
        "for number in numbers:\n",
        "    result+=int(number)\n",
        "print(result)"
      ]
    },
    {
      "cell_type": "markdown",
      "metadata": {
        "id": "w7J3Xg0n6qP2"
      },
      "source": [
        "### Q10"
      ]
    },
    {
      "cell_type": "code",
      "execution_count": null,
      "metadata": {
        "id": "hScqS33v6qP2",
        "outputId": "7b00f742-f1a9-4e7f-a93b-a869654a02fe"
      },
      "outputs": [
        {
          "name": "stdout",
          "output_type": "stream",
          "text": [
            " C 드라이브의 볼륨에는 이름이 없습니다.\n",
            " 볼륨 일련 번호: 6EB0-7DBA\n",
            "\n",
            " c:\\doit 디렉터리\n",
            "\n",
            "2019-11-25  오후 08:47    <DIR>          .\n",
            "2019-11-25  오후 08:47    <DIR>          ..\n",
            "2019-11-25  오후 08:30                27 argv_test.py\n",
            "2019-11-25  오후 08:47    <DIR>          Mymod\n",
            "               1개 파일                  27 바이트\n",
            "               3개 디렉터리  82,015,277,056 바이트 남음\n",
            "\n"
          ]
        }
      ],
      "source": [
        "import os\n",
        "os.chdir(\"c:\\doit\")\n",
        "\n",
        "result=os.popen(\"dir\")\n",
        "\n",
        "print(result.read())"
      ]
    },
    {
      "cell_type": "markdown",
      "metadata": {
        "id": "KJ0iruJm6qP3"
      },
      "source": [
        "### Q11"
      ]
    },
    {
      "cell_type": "code",
      "execution_count": null,
      "metadata": {
        "id": "PeiFh4JC6qP3",
        "outputId": "43b1ab03-d835-49df-9c16-fc67861637f5"
      },
      "outputs": [
        {
          "data": {
            "text/plain": [
              "['c:\\\\doit\\\\argv_test.py']"
            ]
          },
          "execution_count": 28,
          "metadata": {},
          "output_type": "execute_result"
        }
      ],
      "source": [
        "import glob\n",
        "glob.glob(\"c:\\doit\\*.py\")"
      ]
    },
    {
      "cell_type": "markdown",
      "metadata": {
        "id": "K6TGo8ZM6qP4"
      },
      "source": [
        "### Q12"
      ]
    },
    {
      "cell_type": "code",
      "execution_count": null,
      "metadata": {
        "id": "GporkE7q6qP4",
        "outputId": "c14ae8d9-aa83-44c7-bd7a-26db02af38cd"
      },
      "outputs": [
        {
          "data": {
            "text/plain": [
              "'2019\\\\11\\\\25 20:48:27'"
            ]
          },
          "execution_count": 29,
          "metadata": {},
          "output_type": "execute_result"
        }
      ],
      "source": [
        "import time\n",
        "time.strftime(\"%Y\\%m\\%d %H:%M:%S\")"
      ]
    },
    {
      "cell_type": "markdown",
      "metadata": {
        "id": "emouvl3I6qP4"
      },
      "source": [
        "### Q13"
      ]
    },
    {
      "cell_type": "code",
      "execution_count": null,
      "metadata": {
        "id": "GseBICRw6qP5",
        "outputId": "97bc6d2b-a817-4917-98c0-86edccdf5deb"
      },
      "outputs": [
        {
          "name": "stdout",
          "output_type": "stream",
          "text": [
            "[1, 14, 32, 26, 27, 22]\n"
          ]
        }
      ],
      "source": [
        "import random\n",
        "\n",
        "result=[]\n",
        "while len(result)<6:\n",
        "    num=random.randint(1,45)\n",
        "    if num not in result:\n",
        "        result.append(num)\n",
        "        \n",
        "print(result)"
      ]
    }
  ],
  "metadata": {
    "kernelspec": {
      "display_name": "Python 3",
      "language": "python",
      "name": "python3"
    },
    "language_info": {
      "codemirror_mode": {
        "name": "ipython",
        "version": 3
      },
      "file_extension": ".py",
      "mimetype": "text/x-python",
      "name": "python",
      "nbconvert_exporter": "python",
      "pygments_lexer": "ipython3",
      "version": "3.7.3"
    },
    "colab": {
      "name": "exercise-5.ipynb",
      "provenance": [],
      "include_colab_link": true
    }
  },
  "nbformat": 4,
  "nbformat_minor": 0
}