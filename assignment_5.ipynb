{
  "cells": [
    {
      "cell_type": "markdown",
      "metadata": {
        "id": "view-in-github",
        "colab_type": "text"
      },
      "source": [
        "<a href=\"https://colab.research.google.com/github/plumwiserim/Python-Programming-2/blob/main/assignment_5.ipynb\" target=\"_parent\"><img src=\"https://colab.research.google.com/assets/colab-badge.svg\" alt=\"Open In Colab\"/></a>"
      ]
    },
    {
      "cell_type": "markdown",
      "metadata": {
        "id": "hg5ECpgo946J"
      },
      "source": [
        "### 프로젝트 오일러"
      ]
    },
    {
      "cell_type": "markdown",
      "metadata": {
        "id": "CdDBGpRj946O"
      },
      "source": [
        "#### #3 : sympy 패키지의 factorint 함수와 primefactors 함수의 차이를 설명하여라."
      ]
    },
    {
      "cell_type": "code",
      "execution_count": null,
      "metadata": {
        "id": "sdESTOTh946Q"
      },
      "outputs": [],
      "source": [
        "from sympy import factorint, primefactors"
      ]
    },
    {
      "cell_type": "code",
      "execution_count": null,
      "metadata": {
        "id": "u8VFYd4g946T",
        "outputId": "9fa7ecb5-ce17-466c-ae9e-c022b04bfd87"
      },
      "outputs": [
        {
          "data": {
            "text/plain": [
              "{2: 2, 5: 1}"
            ]
          },
          "execution_count": 3,
          "metadata": {},
          "output_type": "execute_result"
        }
      ],
      "source": [
        "factorint(20)"
      ]
    },
    {
      "cell_type": "code",
      "execution_count": null,
      "metadata": {
        "scrolled": true,
        "id": "GaRMbNhD946W",
        "outputId": "a1b8811b-316e-4a91-96fc-3abf402ae90a"
      },
      "outputs": [
        {
          "data": {
            "text/plain": [
              "[2, 5]"
            ]
          },
          "execution_count": 4,
          "metadata": {},
          "output_type": "execute_result"
        }
      ],
      "source": [
        "primefactors(20)"
      ]
    },
    {
      "cell_type": "markdown",
      "metadata": {
        "id": "VFblAo9e946X"
      },
      "source": [
        "#### #4 : random 패키지의 random.randrange(1,7)과 10*random.random() 이 가질수 있는 값을 설명하여라."
      ]
    },
    {
      "cell_type": "code",
      "execution_count": null,
      "metadata": {
        "id": "DmWvbJOx946Z"
      },
      "outputs": [],
      "source": [
        "import random"
      ]
    },
    {
      "cell_type": "code",
      "execution_count": null,
      "metadata": {
        "id": "gM7LiYdk946d",
        "outputId": "93ae3974-f592-4e42-cd98-7e68dd7beeb7"
      },
      "outputs": [
        {
          "data": {
            "text/plain": [
              "3"
            ]
          },
          "execution_count": 13,
          "metadata": {},
          "output_type": "execute_result"
        }
      ],
      "source": [
        "random.randrange(1,7) #1 이상 7 미만의 난수"
      ]
    },
    {
      "cell_type": "code",
      "execution_count": null,
      "metadata": {
        "id": "u6rQaxzf946f",
        "outputId": "06b49d35-ac58-4e54-fce9-ce6ea4d20b24"
      },
      "outputs": [
        {
          "data": {
            "text/plain": [
              "7.708571488689721"
            ]
          },
          "execution_count": 10,
          "metadata": {},
          "output_type": "execute_result"
        }
      ],
      "source": [
        "10*random.random() #10*(0 이상 1 미만의 난수)"
      ]
    },
    {
      "cell_type": "markdown",
      "metadata": {
        "id": "DudGwe2X946h"
      },
      "source": [
        "#### #5 : def GCD(*llist): 와 def GCD(llist): 의 차이를 설명하여라."
      ]
    },
    {
      "cell_type": "code",
      "execution_count": null,
      "metadata": {
        "id": "CM2ETxQ6946j"
      },
      "outputs": [],
      "source": [
        "import math\n",
        "from functools import reduce\n",
        "\n",
        "def GCD_star(*llist): #가변매개변수 변수를 입력하는 만큼 받을 수 있다\n",
        "    print(type(llist[0]),llist)\n",
        "    lt=llist\n",
        "    if type(llist[0])==list: \n",
        "        lt=llist[0]\n",
        "        print(lt)\n",
        "    return reduce(math.gcd, lt)\n",
        "\n",
        "def GCD(llist): #일반매개변수 변수를 지정해둔 만큼 받을 수 있다\n",
        "    print(type(llist[0]),llist)\n",
        "    lt=llist\n",
        "    if type(llist[0])==list: \n",
        "        lt=llist[0]\n",
        "        print(lt)\n",
        "    return reduce(math.gcd, lt)"
      ]
    },
    {
      "cell_type": "code",
      "execution_count": null,
      "metadata": {
        "id": "mQj0ji27946m",
        "outputId": "58ba73c9-3c5b-49ee-a0ff-de0f0f26d3ba"
      },
      "outputs": [
        {
          "name": "stdout",
          "output_type": "stream",
          "text": [
            "<class 'list'> ([12, 18, 4],)\n",
            "[12, 18, 4]\n"
          ]
        },
        {
          "data": {
            "text/plain": [
              "2"
            ]
          },
          "execution_count": 22,
          "metadata": {},
          "output_type": "execute_result"
        }
      ],
      "source": [
        "GCD_star([12,18,4]) #[12,18,4]가 입력가능한 여러 변수의 리스트 (llist) 중 첫번째 요소이므로 llist[0]의 type은 list가 된다"
      ]
    },
    {
      "cell_type": "code",
      "execution_count": null,
      "metadata": {
        "id": "fFcqEj3I946o",
        "outputId": "bc683141-53ee-4c9e-c86f-3f08d9bbe514"
      },
      "outputs": [
        {
          "name": "stdout",
          "output_type": "stream",
          "text": [
            "<class 'int'> [12, 18, 4]\n"
          ]
        },
        {
          "data": {
            "text/plain": [
              "2"
            ]
          },
          "execution_count": 23,
          "metadata": {},
          "output_type": "execute_result"
        }
      ],
      "source": [
        "GCD([12,18,4]) #매개변수를 리스트 한 개로 지정해두었으므로 llist=[12,18,4] 이고 llist[0]=12 이므로 llist[0]의 type은 int가 된다"
      ]
    },
    {
      "cell_type": "markdown",
      "metadata": {
        "id": "fpG-OWYL946q"
      },
      "source": [
        "#### #7 : print(timeit.timeit('approach1(500)', globals=globals(), number=10000))에서 숫자 500과 10000의 의미를 설명하여라."
      ]
    },
    {
      "cell_type": "code",
      "execution_count": null,
      "metadata": {
        "scrolled": false,
        "id": "3z73Wdpv946r",
        "outputId": "4f3ce7b3-1ee9-4cae-a61f-12c1710ea83d"
      },
      "outputs": [
        {
          "name": "stdout",
          "output_type": "stream",
          "text": [
            "239.08431649999693\n"
          ]
        }
      ],
      "source": [
        "import timeit\n",
        "\n",
        "def isPrime1(n): #소수임을 판별하는 함수\n",
        "    if n< 2 : return False #1은 소수가 아니다\n",
        "    if n< 4 : return True #2,3은 소수이다\n",
        "    else :\n",
        "        for i in range(2,int(n**0.5)+1): #i는 2부터 루트n보다 작은 정수까지\n",
        "            if n%i==0: #n이 i로 나눠지면 n은 소수가 아니다\n",
        "                return False\n",
        "    return True\n",
        "\n",
        "def approach1(givenNumber):    # Initialize a list\n",
        "    primes = []\n",
        "    for possiblePrime in range(2, givenNumber + 1):        # Assume number is prime until shown it is not. \n",
        "        isPrime = True\n",
        "        for num in range(2, possiblePrime):\n",
        "            if possiblePrime % num == 0:\n",
        "                isPrime = False        \n",
        "        if isPrime:\n",
        "            primes.append(possiblePrime)\n",
        "    return(primes)\n",
        "\n",
        "print(timeit.timeit('approach1(500)', globals=globals(), number=10000))\n",
        "#approach1(500) : 실행측정할 코드 및 함수\n",
        "#approach 함수에 500을 입력하면 2부터 500까지의 수 중에서 소수인 것을 찾아내 리스트로 출력해준다.\n",
        "#number=10000 : 선언한 코드 및 함수의 수행 횟수. 선언하지 않으면 기본값으로 1000000번이 실행됨"
      ]
    },
    {
      "cell_type": "markdown",
      "metadata": {
        "id": "FvLEGQrP946t"
      },
      "source": [
        "#### #8 : 문자열 M에 대하여 M=\"\".join(M.split('\\n')) 의 실행 결과를 설명하여라."
      ]
    },
    {
      "cell_type": "code",
      "execution_count": null,
      "metadata": {
        "id": "ttZJL2gN946u",
        "outputId": "e2881e0c-aecb-4c88-bd60-81b06404ca06"
      },
      "outputs": [
        {
          "name": "stdout",
          "output_type": "stream",
          "text": [
            "\n",
            "73167176531330624919225119674426574742355349194934\n",
            "96983520312774506326239578318016984801869478851843\n",
            "85861560789112949495459501737958331952853208805511\n",
            "12540698747158523863050715693290963295227443043557\n",
            "66896648950445244523161731856403098711121722383113\n",
            "62229893423380308135336276614282806444486645238749\n",
            "30358907296290491560440772390713810515859307960866\n",
            "70172427121883998797908792274921901699720888093776\n",
            "65727333001053367881220235421809751254540594752243\n",
            "52584907711670556013604839586446706324415722155397\n",
            "53697817977846174064955149290862569321978468622482\n",
            "83972241375657056057490261407972968652414535100474\n",
            "82166370484403199890008895243450658541227588666881\n",
            "16427171479924442928230863465674813919123162824586\n",
            "17866458359124566529476545682848912883142607690042\n",
            "24219022671055626321111109370544217506941658960408\n",
            "07198403850962455444362981230987879927244284909188\n",
            "84580156166097919133875499200524063689912560717606\n",
            "05886116467109405077541002256983155200055935729725\n",
            "71636269561882670428252483600823257530420752963450\n",
            "\n",
            "7316717653133062491922511967442657474235534919493496983520312774506326239578318016984801869478851843858615607891129494954595017379583319528532088055111254069874715852386305071569329096329522744304355766896648950445244523161731856403098711121722383113622298934233803081353362766142828064444866452387493035890729629049156044077239071381051585930796086670172427121883998797908792274921901699720888093776657273330010533678812202354218097512545405947522435258490771167055601360483958644670632441572215539753697817977846174064955149290862569321978468622482839722413756570560574902614079729686524145351004748216637048440319989000889524345065854122758866688116427171479924442928230863465674813919123162824586178664583591245665294765456828489128831426076900422421902267105562632111110937054421750694165896040807198403850962455444362981230987879927244284909188845801561660979191338754992005240636899125607176060588611646710940507754100225698315520005593572972571636269561882670428252483600823257530420752963450\n"
          ]
        }
      ],
      "source": [
        "M='''\n",
        "73167176531330624919225119674426574742355349194934\n",
        "96983520312774506326239578318016984801869478851843\n",
        "85861560789112949495459501737958331952853208805511\n",
        "12540698747158523863050715693290963295227443043557\n",
        "66896648950445244523161731856403098711121722383113\n",
        "62229893423380308135336276614282806444486645238749\n",
        "30358907296290491560440772390713810515859307960866\n",
        "70172427121883998797908792274921901699720888093776\n",
        "65727333001053367881220235421809751254540594752243\n",
        "52584907711670556013604839586446706324415722155397\n",
        "53697817977846174064955149290862569321978468622482\n",
        "83972241375657056057490261407972968652414535100474\n",
        "82166370484403199890008895243450658541227588666881\n",
        "16427171479924442928230863465674813919123162824586\n",
        "17866458359124566529476545682848912883142607690042\n",
        "24219022671055626321111109370544217506941658960408\n",
        "07198403850962455444362981230987879927244284909188\n",
        "84580156166097919133875499200524063689912560717606\n",
        "05886116467109405077541002256983155200055935729725\n",
        "71636269561882670428252483600823257530420752963450\n",
        "'''\n",
        "print(M)\n",
        "M=\"\".join(M.split('\\n'))\n",
        "#줄바꿈문자를 기준으로 문자열을 나누고\n",
        "#리스트의 요소들을 \"\"로 붙여 다시 문자열을 만든다\n",
        "print(M)"
      ]
    },
    {
      "cell_type": "markdown",
      "metadata": {
        "id": "qU7Isser946v"
      },
      "source": [
        "#### #9 : frobenius_solve 패키지의 frobenius_solve 함수는 일상에서 흔히 접하는 문제에 쓰이는 함수이다. 예를들어서 설명하여라."
      ]
    },
    {
      "cell_type": "markdown",
      "metadata": {
        "id": "q7R8VD7T946w"
      },
      "source": [
        "<pre>from frobenius_solve import frobenius_solve, FrobeniusSolve\n",
        "t = frobenius_solve((5, 8, 9, 12), 67)\n",
        "t= [x for x in t]\n",
        "print(len(t),t)\n",
        "\n",
        ">>> 21 [(7, 4, 0, 0), (10, 1, 1, 0), (2, 6, 1, 0), (1, 1, 6, 0), (5, 3, 2, 0), (8, 0, 3, 0), (0, 5, 3, 0), (3, 2, 4, 0), (11, 0, 0, 1), (3, 5, 0, 1), (2, 0, 5, 1), (6, 2, 1, 1), (1, 4, 2, 1), (4, 1, 3, 1), (7, 1, 0, 2), (2, 3, 1, 2), (5, 0, 2, 2), (0, 2, 3, 2), (3, 2, 0, 3), (1, 1, 2, 3), (2, 0, 1, 4)]\n",
        "\n",
        "방정식 5a+8b+9c+12d=67 의 모든 해를 찾아서 그것들을 요소로 하는 리스트를 만든다.\n",
        "</pre>"
      ]
    },
    {
      "cell_type": "markdown",
      "metadata": {
        "id": "FBiTzzMM946x"
      },
      "source": [
        "#### #11 : 문자열 ‘09’를 숫자형 자료로 만드는 방법을 설명하여라."
      ]
    },
    {
      "cell_type": "code",
      "execution_count": null,
      "metadata": {
        "id": "h9KgS1t7946y",
        "outputId": "ae832040-45c2-4f1a-d524-4d76e0cac543"
      },
      "outputs": [
        {
          "name": "stdout",
          "output_type": "stream",
          "text": [
            "<class 'int'>\n",
            "9\n"
          ]
        }
      ],
      "source": [
        "snumber='09' #문자열 '09'\n",
        "nnumber=int(snumber) #int 함수 사용\n",
        "print(type(nnumber)) \n",
        "print(nnumber)"
      ]
    },
    {
      "cell_type": "markdown",
      "metadata": {
        "id": "XPatzIsH946z"
      },
      "source": [
        "#### #12 : 다음의 실행 결과를 예측하여라. [ [x+y for x in range(5)] for y in range(3)]"
      ]
    },
    {
      "cell_type": "code",
      "execution_count": null,
      "metadata": {
        "id": "Cwb6wTZz946z",
        "outputId": "74b18b8c-a58f-4a75-da2a-879a414922bb"
      },
      "outputs": [
        {
          "data": {
            "text/plain": [
              "[[0, 1, 2, 3, 4], [1, 2, 3, 4, 5], [2, 3, 4, 5, 6]]"
            ]
          },
          "execution_count": 4,
          "metadata": {},
          "output_type": "execute_result"
        }
      ],
      "source": [
        "[[x+y for x in range(5)] for y in range(3)]"
      ]
    },
    {
      "cell_type": "code",
      "execution_count": null,
      "metadata": {
        "id": "80BGcT_I9460",
        "outputId": "5aba99e6-bca4-4ade-939c-273a27fe3b9d"
      },
      "outputs": [
        {
          "name": "stdout",
          "output_type": "stream",
          "text": [
            "0 + 0 = 0  1 + 0 = 1  2 + 0 = 2  3 + 0 = 3  4 + 0 = 4  \n",
            "\n",
            "0 + 1 = 1  1 + 1 = 2  2 + 1 = 3  3 + 1 = 4  4 + 1 = 5  \n",
            "\n",
            "0 + 2 = 2  1 + 2 = 3  2 + 2 = 4  3 + 2 = 5  4 + 2 = 6  \n",
            "\n"
          ]
        }
      ],
      "source": [
        "for y in range(3):\n",
        "    for x in range(5):\n",
        "        print(x,'+',y,'=',x+y, end ='  ')\n",
        "    print(\"\\n\")"
      ]
    },
    {
      "cell_type": "markdown",
      "metadata": {
        "id": "rn9JG37Q9461"
      },
      "source": [
        "#### #13 :\n",
        "\n",
        "def collatz(a):\n",
        "\n",
        "sequence = [a]\n",
        "\n",
        "while sequence[-1] > 1:\n",
        "\n",
        "if sequence[-1] % 2 == 0:\n",
        "\n",
        "sequence.append(sequence[-1] // 2)\n",
        "\n",
        "else:\n",
        "\n",
        "sequence.append(3*sequence[-1] + 1)\n",
        "\n",
        "return sequence\n",
        "\n",
        "에서 //과 %을 설명하여라.\n"
      ]
    },
    {
      "cell_type": "code",
      "execution_count": null,
      "metadata": {
        "id": "Etj1p8R69461"
      },
      "outputs": [],
      "source": [
        "def collatz(a):\n",
        "    sequence=[a]\n",
        "    while sequence[-1]>1: #sequence[-1] (리스트의 마지막 요소)가 1보다 큰 동안\n",
        "        if sequence[-1]%2==0:\n",
        "        #sequence[-1]을 2로 나눈 나머지가 0이면\n",
        "            sequence.append(sequence[-1]//2)\n",
        "            #sequence[-1]을 2로 나눈 몫을 sequence 리스트의 마지막 요소로 추가해준다.\n",
        "        else:\n",
        "            sequence.append(3*sequence[-1]+1)\n",
        "            #그렇지 않으면 3*sequence[-1]+1 값을 리스트의 마지막 요소로 추가해준다.\n",
        "        return sequence"
      ]
    },
    {
      "cell_type": "markdown",
      "metadata": {
        "id": "QoxKwsWR9462"
      },
      "source": [
        "<pre>sequence[-1]%2\n",
        "#sequence[-1]을 2로 나눈 나머지\n",
        "sequence[-1]//2\n",
        "#sequence[-1]을 2로 나눈 몫</pre>"
      ]
    },
    {
      "cell_type": "markdown",
      "metadata": {
        "id": "2ozq4yV89462"
      },
      "source": [
        "#### #16 : sum(int(i) for i in str(2**15)) 프로그램을 설명하여라."
      ]
    },
    {
      "cell_type": "code",
      "execution_count": null,
      "metadata": {
        "id": "2QYlpk5_9462",
        "outputId": "c6216f31-6b81-412d-f9c6-fcf2d0690e73"
      },
      "outputs": [
        {
          "data": {
            "text/plain": [
              "26"
            ]
          },
          "execution_count": 6,
          "metadata": {},
          "output_type": "execute_result"
        }
      ],
      "source": [
        "sum(int(i) for i in str(2**15))"
      ]
    },
    {
      "cell_type": "code",
      "execution_count": null,
      "metadata": {
        "id": "ZoVi6j0W9463",
        "outputId": "18d7223b-dcdc-48e0-c46f-6d599af2da78"
      },
      "outputs": [
        {
          "data": {
            "text/plain": [
              "'32768'"
            ]
          },
          "execution_count": 7,
          "metadata": {},
          "output_type": "execute_result"
        }
      ],
      "source": [
        "str(2**15) #2의 15승한 숫자를 문자열로 나타내고"
      ]
    },
    {
      "cell_type": "code",
      "execution_count": null,
      "metadata": {
        "id": "0aIg94gp9463",
        "outputId": "0e13a9ce-813e-4578-a390-09ab6764c6db"
      },
      "outputs": [
        {
          "data": {
            "text/plain": [
              "[3, 2, 7, 6, 8]"
            ]
          },
          "execution_count": 18,
          "metadata": {},
          "output_type": "execute_result"
        }
      ],
      "source": [
        "list(int(i) for i in str(2**15)) #문자열 안의 숫자문자를 각각 정수형으로 바꾸어서"
      ]
    },
    {
      "cell_type": "code",
      "execution_count": null,
      "metadata": {
        "id": "p0od4UjE9463"
      },
      "outputs": [],
      "source": [
        "sum(int(i) for i in str(2**15)) #모두 더해준다"
      ]
    },
    {
      "cell_type": "markdown",
      "metadata": {
        "id": "NvqDx3I19464"
      },
      "source": [
        "#### #17 : inflect패키지의 number_to_words 함수 같은 함수가 왜 패키지로 만들었을까 설명하시오."
      ]
    },
    {
      "cell_type": "code",
      "execution_count": null,
      "metadata": {
        "id": "AQWvFlj99464",
        "outputId": "adacf86a-c4a9-47ef-b506-dd78940bee3c"
      },
      "outputs": [
        {
          "name": "stdout",
          "output_type": "stream",
          "text": [
            "Collecting inflect\n",
            "  Downloading https://files.pythonhosted.org/packages/2a/14/49a8afaaa66fb49cda8e60512f0fc07594232fb10ea6aa8995c069172cf6/inflect-3.0.2-py2.py3-none-any.whl\n",
            "Requirement already satisfied: importlib-metadata in c:\\users\\lee\\anaconda3\\lib\\site-packages (from inflect) (0.17)\n",
            "Requirement already satisfied: zipp>=0.5 in c:\\users\\lee\\anaconda3\\lib\\site-packages (from importlib-metadata->inflect) (0.5.1)\n",
            "Installing collected packages: inflect\n",
            "Successfully installed inflect-3.0.2\n"
          ]
        }
      ],
      "source": [
        "!pip install inflect"
      ]
    },
    {
      "cell_type": "code",
      "execution_count": null,
      "metadata": {
        "id": "rLEWbYhp9464",
        "outputId": "343d75e5-4bad-4b30-f26a-1a8036c03e97"
      },
      "outputs": [
        {
          "data": {
            "text/plain": [
              "'one hundred and fifteen'"
            ]
          },
          "execution_count": 36,
          "metadata": {},
          "output_type": "execute_result"
        }
      ],
      "source": [
        "import inflect\n",
        "\n",
        "def IntegerName(num):\n",
        "    p = inflect.engine()\n",
        "    return p.number_to_words(num)\n",
        "    \n",
        "IntegerName(115)"
      ]
    },
    {
      "cell_type": "markdown",
      "metadata": {
        "id": "0MrVMSbR9465"
      },
      "source": [
        "inflect패키지의 number_to_words 함수는 숫자를 입력하면 문자로 출력해주는 함수이다.\n",
        "이를 실제로 구현하게 된다면 경우마다 출력해내야 하는 문자를 지정해주어야 해서 코드가 매우 길어질 것이다.\n",
        "하지만 함수가 패키지로 만들어졌음으로 인해 코드가 매우 간결해졌다"
      ]
    },
    {
      "cell_type": "markdown",
      "metadata": {
        "id": "sJy_INPx9465"
      },
      "source": [
        "#### #18 : 다음의 결과를 예측하시오.\n",
        "\n",
        "import time\n",
        "\n",
        "from datetime import date\n",
        "\n",
        "date(1967,2,5).strftime(\"%A %d. %B %Y\")\n"
      ]
    },
    {
      "cell_type": "code",
      "execution_count": null,
      "metadata": {
        "id": "W91YZu_I9466",
        "outputId": "1031254b-b3d7-4deb-d4b6-b79728ec59c8"
      },
      "outputs": [
        {
          "data": {
            "text/plain": [
              "'Sunday 05. February 1967'"
            ]
          },
          "execution_count": 39,
          "metadata": {},
          "output_type": "execute_result"
        }
      ],
      "source": [
        "import time\n",
        "from datetime import time\n",
        "date(1967,2,5).strftime(\"%A %d. %B %Y\")"
      ]
    },
    {
      "cell_type": "markdown",
      "metadata": {
        "id": "GbjMyv799467"
      },
      "source": [
        "#### #19 : 수학적 프로그로밍에서 알고리즘 적인 사고 다섯 단계를 설명하여라."
      ]
    },
    {
      "cell_type": "markdown",
      "metadata": {
        "id": "Q_Lf8s5J9468"
      },
      "source": [
        "1. 문제를 이해하는 것이 첫 번째입니다.\n",
        "2. 문제를 수학적 기호로 공식화하는 것이 두 번째입니다.\n",
        "3. 효율적 알고리즘 개발이 세 번째입니다.\n",
        "4. 알고리즘 효율적 구현이 네 번째입니다.\n",
        "5. 다섯 번째는 데이터에서 실행되고 원래 질문에 대답해야 합니다."
      ]
    },
    {
      "cell_type": "markdown",
      "metadata": {
        "id": "D-PHg8f69468"
      },
      "source": [
        "#### #22 : A.sort() 와 sorted(A)의 차이를 설명하여라."
      ]
    },
    {
      "cell_type": "code",
      "execution_count": null,
      "metadata": {
        "id": "-7HJ1IOQ9468"
      },
      "outputs": [],
      "source": [
        "A=[2,5,6,4]\n",
        "A.sort()"
      ]
    },
    {
      "cell_type": "markdown",
      "metadata": {
        "id": "B-XBLZwe9469"
      },
      "source": [
        "리스트 객체 그 자체를 정렬만 할 뿐 정렬된 결과를 돌려주지는 않는다."
      ]
    },
    {
      "cell_type": "code",
      "execution_count": null,
      "metadata": {
        "id": "VoD7IgIp9469",
        "outputId": "a2cc37eb-63b5-463a-f6c0-bf75123fcc19"
      },
      "outputs": [
        {
          "name": "stdout",
          "output_type": "stream",
          "text": [
            "[2, 4, 5, 6]\n"
          ]
        }
      ],
      "source": [
        "print(A)"
      ]
    },
    {
      "cell_type": "markdown",
      "metadata": {
        "id": "7TSfX7q5946-"
      },
      "source": [
        "직접 A를 출력해야 한다."
      ]
    },
    {
      "cell_type": "code",
      "execution_count": null,
      "metadata": {
        "scrolled": true,
        "id": "B1dCbz4p946-",
        "outputId": "d6122e48-d2ee-49e7-9863-0343652afeb8"
      },
      "outputs": [
        {
          "data": {
            "text/plain": [
              "[2, 4, 5, 6]"
            ]
          },
          "execution_count": 27,
          "metadata": {},
          "output_type": "execute_result"
        }
      ],
      "source": [
        "B=[2,5,6,4]\n",
        "sorted(B)"
      ]
    },
    {
      "cell_type": "markdown",
      "metadata": {
        "id": "48mC0O7Z946-"
      },
      "source": [
        "입력값을 정렬한 후 그 결과를 리스트로 돌려준다."
      ]
    },
    {
      "cell_type": "code",
      "execution_count": null,
      "metadata": {
        "id": "sY6uk5ux946_",
        "outputId": "48eb2b5d-cfea-4d23-9bb0-fa66cece910b"
      },
      "outputs": [
        {
          "name": "stdout",
          "output_type": "stream",
          "text": [
            "[2, 5, 6, 4]\n"
          ]
        }
      ],
      "source": [
        "print(B)"
      ]
    },
    {
      "cell_type": "markdown",
      "metadata": {
        "id": "gqTieYvt946_"
      },
      "source": [
        "리스트 객체 그 자체를 정렬하진 않는다."
      ]
    },
    {
      "cell_type": "markdown",
      "metadata": {
        "id": "oHakjHl7946_"
      },
      "source": [
        "#### #23 : “알고리즘 효율적 구현” 이 언제 필요한지 설명하여라."
      ]
    },
    {
      "cell_type": "markdown",
      "metadata": {
        "id": "a62URPhY947A"
      },
      "source": [
        "수학적 프로그래밍을 할 때에 알고리즘적인 사고 다섯 단계가 필요하다.\n",
        "문제를 이해하고 공식화한 다음 알고리즘을 개발하고\n",
        "그 다음 단계로 알고리즘의 효율성을 분석 및 개선하기 위하여 알고리즘 효율적 구현 단계가 필요하다"
      ]
    },
    {
      "cell_type": "markdown",
      "metadata": {
        "id": "b7yBuka3947A"
      },
      "source": [
        "#### .py 프로그램에서 if __name__ == \"__main__\": 의 의미를 조사하여 설명하여라."
      ]
    },
    {
      "cell_type": "markdown",
      "metadata": {
        "id": "fdXhTEbU947A"
      },
      "source": [
        "if __name__ == \"__main__\"을 사용하면 C:\\doit>python mod1.py처럼 직접 이 파일을 실행했을 때는 __name__ == \"__main__\"이 참이 되어 if문 다음 문장이 수행된다. 반대로 대화형 인터프리터나 다른 파일에서 이 모듈을 불러서 사용할 때는 __name__ == \"__main__\"이 거짓이 되어 if문 다음 문장이 수행되지 않는다."
      ]
    },
    {
      "cell_type": "code",
      "execution_count": null,
      "metadata": {
        "id": "bjbNOSf0947B"
      },
      "outputs": [],
      "source": [
        ""
      ]
    }
  ],
  "metadata": {
    "kernelspec": {
      "display_name": "Python 3",
      "language": "python",
      "name": "python3"
    },
    "language_info": {
      "codemirror_mode": {
        "name": "ipython",
        "version": 3
      },
      "file_extension": ".py",
      "mimetype": "text/x-python",
      "name": "python",
      "nbconvert_exporter": "python",
      "pygments_lexer": "ipython3",
      "version": "3.7.3"
    },
    "colab": {
      "name": "Project-Euler-2.ipynb",
      "provenance": [],
      "include_colab_link": true
    }
  },
  "nbformat": 4,
  "nbformat_minor": 0
}