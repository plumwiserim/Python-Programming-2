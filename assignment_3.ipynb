{
  "cells": [
    {
      "cell_type": "markdown",
      "metadata": {
        "id": "view-in-github",
        "colab_type": "text"
      },
      "source": [
        "<a href=\"https://colab.research.google.com/github/plumwiserim/Python-Programming-2/blob/main/assignment_3.ipynb\" target=\"_parent\"><img src=\"https://colab.research.google.com/assets/colab-badge.svg\" alt=\"Open In Colab\"/></a>"
      ]
    },
    {
      "cell_type": "code",
      "execution_count": null,
      "metadata": {
        "id": "gKq50B1q-KqB",
        "outputId": "bbf042aa-acba-401d-b662-153c9f751c5c"
      },
      "outputs": [
        {
          "name": "stdout",
          "output_type": "stream",
          "text": [
            "변환하려는 수를 입력하여라:26\n",
            "몇진수로 표현하려는가:16\n",
            "1A\n"
          ]
        }
      ],
      "source": [
        "k=int(input('변환하려는 수를 입력하여라:'))\n",
        "b=int(input('몇진수로 표현하려는가:'))\n",
        "def convert(n, base):\n",
        "    T = \"0123456789ABCDEF\"\n",
        "    q, r = divmod(n, base)\n",
        "    if q == 0:\n",
        "        return T[r]\n",
        "    else:\n",
        "        return convert(q, base) + T[r]\n",
        "print(convert(k, b))"
      ]
    },
    {
      "cell_type": "code",
      "execution_count": null,
      "metadata": {
        "id": "L8Ct4vFF-KqJ",
        "outputId": "d9367227-edad-4933-fd85-6282f5feca83"
      },
      "outputs": [
        {
          "name": "stdout",
          "output_type": "stream",
          "text": [
            "변환하려는 수를 입력하여라:24\n",
            "몇진법인가: 5\n",
            "몇진수로 표현하려는가:2\n",
            "1110\n"
          ]
        }
      ],
      "source": [
        "k=input('변환하려는 수를 입력하여라:')\n",
        "a=int(input('몇진법인가:'))\n",
        "n = int(k,base=a)\n",
        "b=int(input('몇진수로 표현하려는가:'))\n",
        "def convert(n, base):\n",
        "    T = \"0123456789ABCDEF\"\n",
        "    q, r = divmod(n, base)\n",
        "    if q == 0:\n",
        "        return T[r]\n",
        "    else:\n",
        "        return convert(q, base) + T[r]\n",
        "print(convert(n, b))"
      ]
    }
  ],
  "metadata": {
    "kernelspec": {
      "display_name": "Python 3",
      "language": "python",
      "name": "python3"
    },
    "language_info": {
      "codemirror_mode": {
        "name": "ipython",
        "version": 3
      },
      "file_extension": ".py",
      "mimetype": "text/x-python",
      "name": "python",
      "nbconvert_exporter": "python",
      "pygments_lexer": "ipython3",
      "version": "3.7.3"
    },
    "colab": {
      "name": "201711142 과제3.ipynb",
      "provenance": [],
      "include_colab_link": true
    }
  },
  "nbformat": 4,
  "nbformat_minor": 0
}